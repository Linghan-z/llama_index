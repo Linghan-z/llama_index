{
 "cells": [
  {
   "attachments": {},
   "cell_type": "markdown",
   "metadata": {},
   "source": [
    "# Knowledge Graph Query Engine\n",
    "\n",
    "Creating a Knowledge Graph usually involves specialized and complex tasks. However, by utilizing the Llama Index (LLM), the KnowledgeGraphIndex, and the GraphStore, we can facilitate the creation of a relatively effective Knowledge Graph from any data source supported by [Llama Hub](https://llamahub.ai/).\n",
    "\n",
    "Furthermore, querying a Knowledge Graph often requires domain-specific knowledge related to the storage system, such as Cypher. But, with the assistance of the LLM and the LlamaIndex KnowledgeGraphQueryEngine, this can be accomplished using Natural Language!\n",
    "\n",
    "In this demonstration, we will guide you through the steps to:\n",
    "\n",
    "- Extract and Set Up a Knowledge Graph using the Llama Index\n",
    "- Query a Knowledge Graph using Cypher\n",
    "- Query a Knowledge Graph using Natural Language"
   ]
  },
  {
   "attachments": {},
   "cell_type": "markdown",
   "metadata": {},
   "source": [
    "Let's first get ready for basic preparation of Llama Index."
   ]
  },
  {
   "cell_type": "code",
   "execution_count": 1,
   "metadata": {
    "ExecuteTime": {
     "end_time": "2023-09-10T02:35:06.900568Z",
     "start_time": "2023-09-10T02:34:58.495298Z"
    }
   },
   "outputs": [
    {
     "name": "stdout",
     "output_type": "stream",
     "text": [
      "INFO:numexpr.utils:Note: NumExpr detected 12 cores but \"NUMEXPR_MAX_THREADS\" not set, so enforcing safe limit of 8.\n",
      "INFO:numexpr.utils:NumExpr defaulting to 8 threads.\n"
     ]
    }
   ],
   "source": [
    "# For OpenAI\n",
    "import os\n",
    "import subprocess\n",
    "\n",
    "openai_api = subprocess.run(['pass', 'show', 'api/tokens/openai'], stdout=subprocess.PIPE)\n",
    "os.environ[\"OPENAI_API_KEY\"] = openai_api.stdout.decode('utf-8').rstrip('\\n')\n",
    "\n",
    "import logging\n",
    "import sys\n",
    "\n",
    "logging.basicConfig(\n",
    "    stream=sys.stdout, level=logging.INFO\n",
    ")  # logging.DEBUG for more verbose output\n",
    "\n",
    "from llama_index import (\n",
    "    KnowledgeGraphIndex,\n",
    "    LLMPredictor,\n",
    "    ServiceContext,\n",
    "    SimpleDirectoryReader,\n",
    ")\n",
    "from llama_index.storage.storage_context import StorageContext\n",
    "from llama_index.graph_stores import NebulaGraphStore\n",
    "from llama_index.llms import OpenAI\n",
    "\n",
    "from IPython.display import Markdown, display\n",
    "\n",
    "\n",
    "# define LLM\n",
    "# NOTE: at the time of demo, text-davinci-002 did not have rate-limit errors\n",
    "llm = OpenAI(temperature=0, model=\"text-davinci-002\")\n",
    "service_context = ServiceContext.from_defaults(llm=llm, chunk_size=512)"
   ]
  },
  {
   "cell_type": "code",
   "execution_count": null,
   "metadata": {},
   "outputs": [],
   "source": [
    "# For Azure OpenAI\n",
    "import os\n",
    "import json\n",
    "import openai\n",
    "from langchain.llms import AzureOpenAI\n",
    "from langchain.embeddings import OpenAIEmbeddings\n",
    "from llama_index import LangchainEmbedding\n",
    "from llama_index import (\n",
    "    VectorStoreIndex,\n",
    "    SimpleDirectoryReader,\n",
    "    KnowledgeGraphIndex,\n",
    "    LLMPredictor,\n",
    "    ServiceContext,\n",
    ")\n",
    "\n",
    "from llama_index.storage.storage_context import StorageContext\n",
    "from llama_index.graph_stores import NebulaGraphStore\n",
    "from llama_index.llms import LangChainLLM\n",
    "\n",
    "import logging\n",
    "import sys\n",
    "\n",
    "from IPython.display import Markdown, display\n",
    "\n",
    "logging.basicConfig(\n",
    "    stream=sys.stdout, level=logging.INFO\n",
    ")  # logging.DEBUG for more verbose output\n",
    "logging.getLogger().addHandler(logging.StreamHandler(stream=sys.stdout))\n",
    "\n",
    "openai.api_type = \"azure\"\n",
    "openai.api_base = \"INSERT AZURE API BASE\"\n",
    "openai.api_version = \"2022-12-01\"\n",
    "os.environ[\"OPENAI_API_KEY\"] = \"INSERT OPENAI KEY\"\n",
    "openai.api_key = os.getenv(\"OPENAI_API_KEY\")\n",
    "\n",
    "lc_llm = AzureOpenAI(\n",
    "    deployment_name=\"INSERT DEPLOYMENT NAME\",\n",
    "    temperature=0,\n",
    "    openai_api_version=openai.api_version,\n",
    "    model_kwargs={\n",
    "        \"api_key\": openai.api_key,\n",
    "        \"api_base\": openai.api_base,\n",
    "        \"api_type\": openai.api_type,\n",
    "        \"api_version\": openai.api_version,\n",
    "    },\n",
    ")\n",
    "llm = LangChainLLM(lc_llm)\n",
    "\n",
    "# You need to deploy your own embedding model as well as your own chat completion model\n",
    "embedding_llm = LangchainEmbedding(\n",
    "    OpenAIEmbeddings(\n",
    "        model=\"text-embedding-ada-002\",\n",
    "        deployment=\"INSERT DEPLOYMENT NAME\",\n",
    "        openai_api_key=openai.api_key,\n",
    "        openai_api_base=openai.api_base,\n",
    "        openai_api_type=openai.api_type,\n",
    "        openai_api_version=openai.api_version,\n",
    "    ),\n",
    "    embed_batch_size=1,\n",
    ")\n",
    "\n",
    "service_context = ServiceContext.from_defaults(\n",
    "    llm=llm,\n",
    "    embed_model=embedding_llm,\n",
    ")"
   ]
  },
  {
   "attachments": {},
   "cell_type": "markdown",
   "metadata": {},
   "source": [
    "## Prepare for NebulaGraph\n",
    "\n",
    "Before next step to creating the Knowledge Graph, let's ensure we have a running NebulaGraph with defined data schema."
   ]
  },
  {
   "cell_type": "code",
   "execution_count": 2,
   "metadata": {
    "ExecuteTime": {
     "end_time": "2023-09-10T02:35:19.422401Z",
     "start_time": "2023-09-10T02:35:12.689386Z"
    }
   },
   "outputs": [
    {
     "name": "stdout",
     "output_type": "stream",
     "text": [
      "Requirement already satisfied: ipython-ngql in /usr/local/lib/python3.11/site-packages (0.7.1)\r\n",
      "Requirement already satisfied: nebula3-python in /usr/local/lib/python3.11/site-packages (3.4.0)\r\n",
      "Requirement already satisfied: Jinja2 in /usr/local/lib/python3.11/site-packages (from ipython-ngql) (3.1.2)\r\n",
      "Requirement already satisfied: pandas in /usr/local/lib/python3.11/site-packages (from ipython-ngql) (2.1.0)\r\n",
      "Requirement already satisfied: httplib2>=0.20.0 in /usr/local/lib/python3.11/site-packages (from nebula3-python) (0.22.0)\r\n",
      "Requirement already satisfied: future>=0.18.0 in /usr/local/lib/python3.11/site-packages (from nebula3-python) (0.18.3)\r\n",
      "Requirement already satisfied: six>=1.16.0 in /usr/local/lib/python3.11/site-packages (from nebula3-python) (1.16.0)\r\n",
      "Requirement already satisfied: pytz>=2021.1 in /usr/local/lib/python3.11/site-packages (from nebula3-python) (2023.3.post1)\r\n",
      "Requirement already satisfied: pyparsing!=3.0.0,!=3.0.1,!=3.0.2,!=3.0.3,<4,>=2.4.2 in /usr/local/lib/python3.11/site-packages (from httplib2>=0.20.0->nebula3-python) (3.1.1)\r\n",
      "Requirement already satisfied: MarkupSafe>=2.0 in /usr/local/lib/python3.11/site-packages (from Jinja2->ipython-ngql) (2.1.3)\r\n",
      "Requirement already satisfied: numpy>=1.23.2 in /usr/local/lib/python3.11/site-packages (from pandas->ipython-ngql) (1.24.3)\r\n",
      "Requirement already satisfied: python-dateutil>=2.8.2 in /usr/local/lib/python3.11/site-packages (from pandas->ipython-ngql) (2.8.2)\r\n",
      "Requirement already satisfied: tzdata>=2022.1 in /usr/local/lib/python3.11/site-packages (from pandas->ipython-ngql) (2023.3)\r\n",
      "Note: you may need to restart the kernel to use updated packages.\n"
     ]
    }
   ],
   "source": [
    "# Create a NebulaGraph (version 3.5.0 or newer) cluster with:\n",
    "# Option 0 for machines with Docker: `curl -fsSL nebula-up.siwei.io/install.sh | bash`\n",
    "# Option 1 for Desktop: NebulaGraph Docker Extension https://hub.docker.com/extensions/weygu/nebulagraph-dd-ext\n",
    "\n",
    "# If not, create it with the following commands from NebulaGraph's console:\n",
    "# CREATE SPACE llamaindex(vid_type=FIXED_STRING(256), partition_num=1, replica_factor=1);\n",
    "# :sleep 10;\n",
    "# USE llamaindex;\n",
    "# CREATE TAG entity(name string);\n",
    "# CREATE EDGE relationship(relationship string);\n",
    "# :sleep 10;\n",
    "# CREATE TAG INDEX entity_index ON entity(name(256));\n",
    "\n",
    "%pip install ipython-ngql nebula3-python\n",
    "\n",
    "os.environ[\"NEBULA_USER\"] = \"root\"\n",
    "os.environ[\"NEBULA_PASSWORD\"] = \"nebula\"  # default is \"nebula\"\n",
    "os.environ[\n",
    "    \"NEBULA_ADDRESS\"\n",
    "] = \"10.180.146.77:9669\"  # assumed we have NebulaGraph installed locally\n",
    "\n",
    "space_name = \"military\"\n",
    "edge_types, rel_prop_names = [\"relationship\"], [\n",
    "    \"relationship\"\n",
    "]  # default, could be omit if create from an empty kg\n",
    "tags = [\"entity\"]  # default, could be omit if create from an empty kg"
   ]
  },
  {
   "attachments": {},
   "cell_type": "markdown",
   "metadata": {},
   "source": [
    "Prepare for StorageContext with graph_store as NebulaGraphStore"
   ]
  },
  {
   "cell_type": "code",
   "execution_count": 3,
   "metadata": {
    "ExecuteTime": {
     "end_time": "2023-09-10T02:35:21.795890Z",
     "start_time": "2023-09-10T02:35:21.643022Z"
    }
   },
   "outputs": [],
   "source": [
    "graph_store = NebulaGraphStore(\n",
    "    space_name=space_name,\n",
    "    edge_types=edge_types,\n",
    "    rel_prop_names=rel_prop_names,\n",
    "    tags=tags,\n",
    ")\n",
    "storage_context = StorageContext.from_defaults(graph_store=graph_store)"
   ]
  },
  {
   "attachments": {},
   "cell_type": "markdown",
   "metadata": {},
   "source": [
    "## (Optional)Build the Knowledge Graph with LlamaIndex\n",
    "\n",
    "With the help of Llama Index and LLM defined, we could build Knowledge Graph from given documents.\n",
    "\n",
    "If we have a Knowledge Graph on NebulaGraphStore already, this step could be skipped"
   ]
  },
  {
   "attachments": {},
   "cell_type": "markdown",
   "metadata": {},
   "source": [
    "### Step 1, load data from Wikipedia for \"Guardians of the Galaxy Vol. 3\""
   ]
  },
  {
   "cell_type": "code",
   "execution_count": 4,
   "metadata": {
    "ExecuteTime": {
     "end_time": "2023-09-10T02:35:27.315687Z",
     "start_time": "2023-09-10T02:35:24.781107Z"
    }
   },
   "outputs": [
    {
     "name": "stdout",
     "output_type": "stream",
     "text": [
      "歼-16（又称J-16，代号“潜龙”）是中国沈阳飞机公司研发的一款4.5代重型多用途战机，由殲-11BS戰鬥機發展而來。該機2012年在網站上首次亮相，並被視為是2000年購入的蘇30自產版。2013年加拿大《汉和防务评论》称，首批24架歼-16战斗机已经下线，被目擊在巴丹吉林沙漠基地測試。俄罗斯《观点报》称，沈阳飞机公司已經向记者展示新型歼-16战斗机，飞机已經涂上中国海军航空兵的标准涂装。2017年7月30日，5机密集编队的歼16机群作为歼击机梯队的一部分参加了庆祝中国人民解放军建军90周年阅兵，央视解说词提到该机型“大幅提升了电子战能力”。\n",
      "\n",
      "\n",
      "== 概述 ==\n",
      "\n",
      "\n",
      "=== 研製需求 ===\n",
      "隨著世界軍事科技的發展，中国人民解放军空军上世紀研發的歼轰-7系列戰轟機，在日益複雜的作戰環境中，空战自卫能力差的缺點顯得越來越突出，难以达到要求的現代多用途作战的要求。因此積極從俄羅斯引進Su-30MKK多用途战斗机。J-16是瀋陽飛機公司以J-11BS和Su-30MKK为蓝本研制的四代半雙座多用途战斗机，裝備自動電子掃描相控陣雷達並具備同時攻擊多個目標並識別目標的能力。J-16於2011年10月17日首飛，性能號稱接近F-15E，無論是載彈量還是火控系統性能都大幅提升。从网上流传的照片可以看出，歼-16全部装备了中国生产的“太行”渦扇-10发动机。。\n",
      "\n",
      "\n",
      "== 基本性能 ==\n",
      "\n",
      "\n",
      "=== 全面作戰能力 ===\n",
      "殲-16是從殲-11B系列上發展而來的第4.5代多用途雙座戰機，殲-16最大特點是具備遠距離超視距攻擊能力和強大的對地、對海打擊能力。殲-16戰鬥機和蘇30MKK一樣採用雙座佈局，為強化武器掛載能力，起落架前輪為雙輪。垂尾頂端與蘇30MKK不同，而是類似於原版蘇27，垂尾頂端切尖。翼尖掛架與殲11B不同，印度曾評價與自家的蘇30MKI相比，新的復合材料機身，發動機推力接近AL-31等，可能更勝一籌，只有航電打平。\n",
      "该型战机武器研发主要依賴使用蘇-30MKK的經驗，對其不足之處加以升級，新型殲-16將用于加强利用中國生產的反舰导弹打击水面舰只的能力。俄罗斯媒体称与歼轰-7相比较歼-16的机体更大，最大载弹量12吨，可以发射鹰击-62和鹰击-83反舰导弹。J-16装备自动电子扫描相控阵雷达，可与多目标作战。空空作戰方面，央視展示透露一次實際驅離行動中，掛載了「霹雳10（PL-10）+霹雳15（PL-15）」的組合，2020年底，国防军事一名为《直击歼-16实战化对抗空战训练》的报道中，提到一批歼-16换装上了新型头显，使该机成为中国空军继歼-20和歼-10C之后第三种曝光配套头显的战机。相比于固定瞄准位的头盔瞄准具，飞行员只需“眼神”锁定即可瞄准发射，导弹的发射阈值或进一步降低。\n",
      "\n",
      "\n",
      "=== 電子管制與偵搜 ===\n",
      "歼-16在Su-30MKK的基礎上，加強電子性能，有C4ISTAR能力，可以擔任小型空中預警機具有空戰管制能力，指揮一小隊戰機（10-15架）接戰，長機會自動資料鏈結僚機，且可自動分配目標或由後座武器官手動分配，僚機可在完全不開雷達情況下進行隱密攻擊，也就是由長機提供射控資料給僚機，僚機以此資料鏈發射飛彈。\n",
      "除了機首光電球本身內建紅外線儀、電視攝影機、雷射測距儀，並可外掛多種電子莢艙適應海上反艦作戰，俄製M400偵蒐莢艙和Sapsan-E光學莢艙是常見的MK2配備，中國自行研發了一種電戰莢艙也已經配備海軍航空兵。可具備主（被）動電子反制功能，能使用「交叉注視」型欺騙干擾對抗來襲的先進空對空飛彈。加上低空飛行的特殊地形跟踪雷达，以及內建一種最新科技360度紅外線感測裝置「鹰隼II」，據稱已經達到第四代戰機的技術內涵，讓飛行員有高解析環場紅外線顯像視野外，還可以作為飛彈反制系統，這系統安裝在機背或其他地方，是一種固定於機身上的傳感器陣列，偵測到飛彈來襲資訊會迅速載入機控電腦，不只可以躲避，甚至可以發射飛彈攔截敵方飛彈，開拓了夜間空戰新領域。\n",
      "\n",
      "\n",
      "== 衍生型 ==\n",
      "\n",
      "\n",
      "=== 歼-16D ===\n",
      "歼-16D型电子战机是以歼-16战斗机为基础的改进型，类似美军EA-18G与F/A-18F的关系，是中国人民解放军空军第一款专用电子战机。歼-16D的研制工作最早于2015年在互联网出现，此后几年中有多张歼-16D原型机试飞的照片在网络流传。2020年底有传言称歼-16D与歼-15D两款电子战机均交付部队服役。\n",
      "2021年9月第十三届珠海航展，歼-16D首次公开，并有一架歼-16D量产机型进行地面静态展示，表明歼-16D已实际列装部队。2021年11月初，歼-16D投入实战化训练。2022年11月该机型再次参加珠海航展。2022年1月24日，歼-16D首次公开出现在台湾海峡附近空域。歼-16D与歼-16相比整体气动外形无明显变化，但任务模块有较大改动：\n",
      "\n",
      "机头雷达罩长度减小，可推测机头有源相控阵雷达前移，面积有缩小，后部可能安装电子战相关的运算处理设备或其他电子设备。雷达后端设备维护口盖改为多个普通检修舱盖，降低了维修的复杂性并提高结构强度。侧卫系列战斗机传统的红外搜索与跟踪系统（IRST）以及30毫米机炮、挡焰板取消，与歼-15D 共为仅有的取消IRST与机炮的侧卫系列战机，可使用霹雳-12/15中距空空导弹自卫。翼尖导弹滑轨取消，换为固定电子战吊舱，可观察到短基线干涉仪战术干扰接收装置，暂未发现长基线干涉仪存在证据。机载发电、用电以及散热系统全面升级改进，以满足大型电子战设备长时间运行对能量和散热的要求。机身有更多电子战相关天线出现。歼-16D挂载四个大型电子战吊舱，并可同时挂载多枚鹰击-91或于2020年曝光的新型反辐射导弹作为硬杀伤手段。得益于侧卫系列战机的较大内油量，歼-16D航程以及作战半径将显著优于美军EA-18G咆哮者电子作战机。\n",
      "\n",
      "\n",
      "== 使用国 ==\n",
      " 中国\n",
      " 中国人民解放军空军\n",
      "\n",
      "\n",
      "== 行动历史 ==\n",
      "自服役以来，歼-16曾多次参与中国人民解放军绕台湾岛巡航。\n",
      "据澳大利亚国防部消息，2022年5月26日，一架歼-16战斗机在南中国海拦截了一架皇家澳大利亚空军的P-8波塞冬海上巡逻机，并进行了一些“不安全且危险”的机动动作。据一些消息称，这架歼-16先是飞至P-8旁边，释放了干扰弹。然后机动至P-8的正前方释放了干扰箔，其中一些干扰箔被卷进了P-8的发动机内部。央视节目《国防军事》于事后的暗示了这次事件中驾驶歼-16战斗机的飞行员是隶属空军第九十九旅“打击者大队”的崔格·买买提江，同时披露了事件发生在中华人民共和国实际控制的西沙群岛上空。2022年11月30日，殲-16首次參與中俄「東京急行」行動，與轟-6K及俄軍圖-95轟炸機一同繞飛日本及南韓，隨後首次於海參崴軍用機場降落。\n",
      "\n",
      "\n",
      "== 技術規格 ==\n",
      "基本信息\n",
      "\n",
      "机组：2性能\n",
      "武器\n",
      "機砲： 1× GSh-30-1 30毫米機炮（150發）\n",
      "空對空飛彈： 翼尖挂架挂载霹雳-10导弹，翼下挂架挂载霹雳-12导弹，机腹挂架可串列挂载2枚尺寸较大的霹雳-15导弹\n",
      "對地飛彈： 反舰反雷达导弹。\n",
      "炸彈： 多种卫星和激光制导炸弹及火箭。\n",
      "总共12个挂点\n",
      "\n",
      "\n",
      "=== 改裝 ===\n",
      "歼-16装备自动有源相控阵雷达具有与多目标作战的能力，并可以识别出目标的相关资料。\n",
      "歼-16的电光瞄准系统（EOTS）这是一个高性能的、轻型多功能系统。它包括一个第3代凝视型前视红外（FLIR）。这个FLIR可以在更远的防区外距离上对目标进行精确的探测和识别。EOTS还具有高分辨率成像、自动跟踪、红外搜索和跟踪、激光指示；测距和激光点跟踪功能。\n",
      "歼-16使用了更能适应惡劣環境起降的双轮主起落架。垂尾尖部有所修形。\n",
      "\n",
      "\n",
      "== 参考文献 ==\n",
      "\n",
      "\n",
      "== 外部链接 ==\n",
      "凤凰网 （页面存档备份，存于互联网档案馆）\n",
      "央視-“全能战士”歼-16 （页面存档备份，存于互联网档案馆）\n",
      "殲16性能超越蘇30戰機 （页面存档备份，存于互联网档案馆）\n",
      "军情观察室 （页面存档备份，存于互联网档案馆）\n",
      "J-16 Multi Role Fighter Bomber of China, J-16 fighter/bomber photos and introductions, AirForceWorld.com\n",
      "\n",
      "\n",
      "== 参见 ==\n",
      "\n",
      "F-15E\n",
      "Su-30\n",
      "Su-30MKK\n"
     ]
    }
   ],
   "source": [
    "# from llama_index import download_loader\n",
    "\n",
    "# WikipediaReader = download_loader(\"WikipediaReader\")\n",
    "from llama_index import WikipediaReader\n",
    "loader = WikipediaReader()\n",
    "\n",
    "documents = loader.load_data(\n",
    "    pages=[\"Shenyang J-16\"], auto_suggest=False\n",
    ")\n",
    "\n",
    "\n",
    "for document in documents:\n",
    "    print(document.text)"
   ]
  },
  {
   "attachments": {},
   "cell_type": "markdown",
   "metadata": {},
   "source": [
    "### Step 2, Generate a KnowledgeGraphIndex with NebulaGraph as graph_store\n",
    "\n",
    "Then, we will create a KnowledgeGraphIndex to enable Graph based RAG, see [here](https://gpt-index.readthedocs.io/en/latest/examples/index_structs/knowledge_graph/KnowledgeGraphIndex_vs_VectorStoreIndex_vs_CustomIndex_combined.html) for deails, apart from that, we have a Knowledge Graph up and running for other purposes, too!"
   ]
  },
  {
   "cell_type": "code",
   "execution_count": 5,
   "metadata": {
    "ExecuteTime": {
     "end_time": "2023-09-10T02:36:45.753156Z",
     "start_time": "2023-09-10T02:35:30.257732Z"
    }
   },
   "outputs": [
    {
     "name": "stdout",
     "output_type": "stream",
     "text": [
      "(歼-16, 又称, J-16)\n",
      "(歼-16, 代号, 潜龙)\n",
      "(歼-16, 是, 中国沈阳飞机公司研发的一款4.5代重型多用途战机)\n",
      "(歼-16, 由, 殲-11BS戰鬥機發展而來)\n",
      "(歼-16, 該機2012年在網站上首次亮相)\n",
      "(歼-16, 並被視為是2000年購入的蘇30自產版)\n",
      "(歼-16, 2013年加拿大《汉和防务评论》称)\n",
      "(歼-16, 首批24架歼-16战斗机已经下线)\n",
      "(歼-16, 被目擊在巴丹吉林沙漠基地測試)\n",
      "(歼-16, 俄罗斯《观点报》称)\n",
      "(歼-16, 沈阳飞机公司已經向记者展示新型歼-16战斗机)\n",
      "(歼-16, 飞机已經涂上中国海军航空兵的标准涂装)\n",
      "(歼轰-7系列戰轟機, 在日益複雜的作戰環境中, 空战自卫能力差的缺點顯得越來越突出)\n",
      "(歼轰-7系列戰轟機, 难以达到要求的現代多用途作戰的要求, 因此積極從俄羅斯引進Su-30MKK多用途战斗机)\n",
      "(J-16, is, fighter jet)\n",
      "(J-16, is, multirole)\n",
      "(J-16, is, twin-engine)\n",
      "(J-16, is, long-range)\n",
      "(J-16, is, all-weather)\n",
      "(J-16, is, capable of attacking land and sea targets)\n",
      "(殲-16戰鬥機, 採用雙座佈局, 強化武器掛載能力)\n",
      "(殲-16戰鬥機, 為, 蘇30MKK)\n",
      "(殲-16戰鬥機, 垂尾頂端與蘇30MKK不同, 類似於原版蘇27)\n",
      "(殲-16戰鬥機, 垂尾頂端, 切尖)\n",
      "(殲-16戰鬥機, 翼尖掛架與殲11B不同, 印度曾評價與自家的蘇30MKI相比)\n",
      "(殲-16戰鬥機, 新的復合材料機身, 發動機推力接近AL-31等)\n",
      "(殲-16戰鬥機, 只有航電打平, 說明)\n",
      "(殲-16戰鬥機, 武器研发主要依賴使用蘇-30MKK的經驗, 對其不足之處加以升級)\n",
      "(殲-16戰鬥機, 新型殲-16, 用于加强利用中國生產的反舰导弹打击水面舰只的能力)\n",
      "(俄罗斯媒体, 称, 歼轰-7)\n",
      "(歼轰-7, 比较, 歼-16)\n",
      "(歼-16, 机体, 更大)\n",
      "(歼-16, 最大载弹量, 12吨)\n",
      "(歼-16, 可以发射, 鹰击-62)\n",
      "(歼-16, 可以发射, 鹰击-83)\n",
      "(歼-16, 装备, 自动电子扫描相控阵雷达)\n",
      "(歼-16, 可与多目标作战)\n",
      "(歼-16, 掛載, 霹雳10)\n",
      "(歼-16, 掛載, 霹雳15)\n",
      "(歼-16, 加強電子性能, C4ISTAR能力)\n",
      "(歼-16, 擔任小型空中預警機, 具有空戰管制能力)\n",
      "(歼-16, 長機會自動資料鏈結僚機, 且可自動分配目標或由後座武器官手動分配)\n",
      "(僚機, 可在完全不開雷達情況下進行隱密攻擊, 也就是由長機提供射控資料給僚機)\n",
      "(機首光電球,內建,紅外線儀)\n",
      "(雷射測距儀,可外掛,電子莢艙)\n",
      "(MK2,配備,Sapsan-E光學莢艙)\n",
      "(中國,自行研發,電戰莢艙)\n",
      "(交叉注視,能使用,欺騙干擾對抗來襲的先進空對空飛彈)\n",
      "(加上低空飛行的特殊地形跟踪雷达, 以及內建一種最新科技360度紅外線感測裝置, 據稱已經達到第四代戰機的技術內涵)\n",
      "(飛行員, 有高解析環場紅外線顯像視野外, 還可以作為飛彈反制系統)\n",
      "(飛彈反制系統, 安裝在機背或其他地方, 是一種固定於機身上的傳感器陣列)\n",
      "(傳感器陣列, 偵測到飛彈來襲資訊會迅速載入機控電腦, 不只可以躲避, 甚至可以發射飛彈攔截敵方飛彈)\n",
      "(飛彈攔截, 開拓了夜間空戰新領域)\n",
      "(歼-16D, 是, 歼-16战斗机的改进型)\n",
      "(歼-16D, 类似, 美军EA-18G与F/A-18F的关系)\n",
      "(歼-16D, 是, 中国人民解放军空军第一款专用电子战机)\n",
      "(歼-16D, 研制工作最早于, 2015年)\n",
      "(歼-16D, 首次公开, 2021年9月第十三届珠海航展)\n",
      "(歼-16D, 投入实战化训练, 2021年11月初)\n",
      "(歼-16D, 再次参加珠海航展, 2022年11月)\n",
      "(歼-16D, 首次公开出现, 台湾海峡附近空域)\n",
      "(歼-16D, 与歼-16相比, 整体气动外形无明显变化)\n",
      "(歼-16D, 任务模块有较大改动, 机头雷达罩长度减小)\n",
      "(歼-16D, 任务模块有较大改动, 可推测机头有源相控阵雷达前移)\n",
      "(歼-16D, 任务模块有较大改动, 面积有缩小)\n",
      "(歼-16D, 任务模块有较大改动, 后部可能安装电子战相关的运算处理设备或其他电子设备)\n",
      "(歼-16D, 雷达后端设备维护口盖改为多个普通检修舱盖, 降低了维修的复杂性并提高结构强度)\n",
      "(侧卫系列战斗机, 传统的, 红外搜索与跟踪系统)\n",
      "(侧卫系列战斗机, 取消, 挡焰板)\n",
      "(侧卫系列战斗机, 可使用, 霹雳-12/15中距空空导弹自卫)\n",
      "(侧卫系列战斗机, 换为, 固定电子战吊舱)\n",
      "(侧卫系列战斗机, 机载发电、用电以及散热系统, 全面升级改进)\n",
      "(侧卫系列战斗机, 机身有更多, 电子战相关天线出现)\n",
      "(歼-16D, 挂载, 电子战吊舱)\n",
      "(歼-16D, 挂载, 鹰击-91)\n",
      "(歼-16D, 挂载, 反辐射导弹)\n",
      "(歼-16D, 航程, 优于美军EA-18G)\n",
      "(歼-16, 多次参与, 中国人民解放军绕台湾岛巡航)\n",
      "(皇家澳大利亚空军的P-8波塞冬海上巡逻机, 被, 歼-16战斗机)\n",
      "(歼-16, 飞至, P-8旁边)\n",
      "(歼-16, 释放了, 干扰弹)\n",
      "(歼-16, 机动至, P-8的正前方)\n",
      "(歼-16, 释放了, 干扰箔)\n",
      "(干扰箔, 被卷进了, P-8的发动机内部)\n",
      "(飞行员, 是隶属空军第九十九旅“打击者大队”的, 崔格·买买提江)\n",
      "(事件, 发生在中华人民共和国实际控制的, 西沙群岛上空)\n",
      "(殲-16, 首次參與中俄「東京急行」行動, 與轟-6K及俄軍圖-95轟炸機一同繞飛日本及南韓)\n",
      "(机组, 性能, 2)\n",
      "(武器, 機砲, 1× GSh-30-1 30毫米機炮)\n",
      "(武器, 空對空飛彈, 翼尖挂架挂载霹雳-10导弹)\n",
      "(武器, 空對空飛彈, 翼下挂架挂载霹雳-12导弹)\n",
      "(武器, 空對空飛彈, 机腹挂架可串列挂载2枚尺寸较大的霹雳-15导弹)\n",
      "(武器, 對地飛彈, 反舰反雷达导弹)\n",
      "(武器, 炸彈, 多种卫星和激光制导炸弹及火箭)\n",
      "(总共12个挂点, 总共, 12个挂点)\n",
      "(歼-16,装备,自动有源相控阵雷达)\n",
      "(歼-16,具有,与多目标作战的能力)\n",
      "(歼-16,具有,识别出目标的相关资料的能力)\n",
      "(歼-16,电光瞄准系统,高性能轻型多功能系统)\n",
      "(歼-16,电光瞄准系统,包括一个第3代凝视型前视红外)\n",
      "(歼-16,电光瞄准系统,可以在更远的防区外距离上对目标进行精确的探测和识别)\n",
      "(歼-16,电光瞄准系统,具有高分辨率成像、自动跟踪、红外搜索和跟踪、激光指示；测距和激光点跟踪功能)\n",
      "(歼-16,使用,更能适应惡劣環境起降的双轮主起落架)\n",
      "(歼-16,垂尾尖部,有所修形)\n",
      "(J-16, is, fighter bomber)\n",
      "(J-16, of, China)\n",
      "(J-16, photos and introductions, AirForceWorld.com)\n",
      "(J-16, is, Multi Role Fighter Bomber)\n",
      "(J-16, is, fighter/bomber)\n"
     ]
    }
   ],
   "source": [
    "kg_index = KnowledgeGraphIndex.from_documents(\n",
    "    documents,\n",
    "    storage_context=storage_context,\n",
    "    max_triplets_per_chunk=10,\n",
    "    service_context=service_context,\n",
    "    space_name=space_name,\n",
    "    edge_types=edge_types,\n",
    "    rel_prop_names=rel_prop_names,\n",
    "    tags=tags,\n",
    "    include_embeddings=True,\n",
    ")"
   ]
  },
  {
   "attachments": {},
   "cell_type": "markdown",
   "metadata": {},
   "source": [
    "Now we have a Knowledge Graph on NebulaGraph cluster under space named `llamaindex` about the 'Guardians of the Galaxy Vol. 3' movie, let's play with it a little bit."
   ]
  },
  {
   "cell_type": "code",
   "execution_count": 6,
   "metadata": {
    "ExecuteTime": {
     "end_time": "2023-09-10T02:36:58.111663Z",
     "start_time": "2023-09-10T02:36:51.048098Z"
    }
   },
   "outputs": [
    {
     "name": "stdout",
     "output_type": "stream",
     "text": [
      "Requirement already satisfied: ipython-ngql in /usr/local/lib/python3.11/site-packages (0.7.1)\r\n",
      "Requirement already satisfied: networkx in /usr/local/lib/python3.11/site-packages (3.1)\r\n",
      "Requirement already satisfied: pyvis in /usr/local/lib/python3.11/site-packages (0.3.2)\r\n",
      "Requirement already satisfied: Jinja2 in /usr/local/lib/python3.11/site-packages (from ipython-ngql) (3.1.2)\r\n",
      "Requirement already satisfied: nebula3-python>=3.4.0 in /usr/local/lib/python3.11/site-packages (from ipython-ngql) (3.4.0)\r\n",
      "Requirement already satisfied: pandas in /usr/local/lib/python3.11/site-packages (from ipython-ngql) (2.1.0)\r\n",
      "Requirement already satisfied: ipython>=5.3.0 in /usr/local/lib/python3.11/site-packages (from pyvis) (8.10.0)\r\n",
      "Requirement already satisfied: jsonpickle>=1.4.1 in /usr/local/lib/python3.11/site-packages (from pyvis) (3.0.2)\r\n",
      "Requirement already satisfied: backcall in /usr/local/lib/python3.11/site-packages (from ipython>=5.3.0->pyvis) (0.2.0)\r\n",
      "Requirement already satisfied: decorator in /usr/local/lib/python3.11/site-packages (from ipython>=5.3.0->pyvis) (5.1.1)\r\n",
      "Requirement already satisfied: jedi>=0.16 in /usr/local/lib/python3.11/site-packages (from ipython>=5.3.0->pyvis) (0.19.0)\r\n",
      "Requirement already satisfied: matplotlib-inline in /usr/local/lib/python3.11/site-packages (from ipython>=5.3.0->pyvis) (0.1.6)\r\n",
      "Requirement already satisfied: pickleshare in /usr/local/lib/python3.11/site-packages (from ipython>=5.3.0->pyvis) (0.7.5)\r\n",
      "Requirement already satisfied: prompt-toolkit<3.1.0,>=3.0.30 in /usr/local/lib/python3.11/site-packages (from ipython>=5.3.0->pyvis) (3.0.39)\r\n",
      "Requirement already satisfied: pygments>=2.4.0 in /usr/local/lib/python3.11/site-packages (from ipython>=5.3.0->pyvis) (2.16.1)\r\n",
      "Requirement already satisfied: stack-data in /usr/local/lib/python3.11/site-packages (from ipython>=5.3.0->pyvis) (0.6.2)\r\n",
      "Requirement already satisfied: traitlets>=5 in /usr/local/lib/python3.11/site-packages (from ipython>=5.3.0->pyvis) (5.9.0)\r\n",
      "Requirement already satisfied: pexpect>4.3 in /usr/local/lib/python3.11/site-packages (from ipython>=5.3.0->pyvis) (4.8.0)\r\n",
      "Requirement already satisfied: appnope in /usr/local/lib/python3.11/site-packages (from ipython>=5.3.0->pyvis) (0.1.3)\r\n",
      "Requirement already satisfied: MarkupSafe>=2.0 in /usr/local/lib/python3.11/site-packages (from Jinja2->ipython-ngql) (2.1.3)\r\n",
      "Requirement already satisfied: httplib2>=0.20.0 in /usr/local/lib/python3.11/site-packages (from nebula3-python>=3.4.0->ipython-ngql) (0.22.0)\r\n",
      "Requirement already satisfied: future>=0.18.0 in /usr/local/lib/python3.11/site-packages (from nebula3-python>=3.4.0->ipython-ngql) (0.18.3)\r\n",
      "Requirement already satisfied: six>=1.16.0 in /usr/local/lib/python3.11/site-packages (from nebula3-python>=3.4.0->ipython-ngql) (1.16.0)\r\n",
      "Requirement already satisfied: pytz>=2021.1 in /usr/local/lib/python3.11/site-packages (from nebula3-python>=3.4.0->ipython-ngql) (2023.3.post1)\r\n",
      "Requirement already satisfied: numpy>=1.23.2 in /usr/local/lib/python3.11/site-packages (from pandas->ipython-ngql) (1.24.3)\r\n",
      "Requirement already satisfied: python-dateutil>=2.8.2 in /usr/local/lib/python3.11/site-packages (from pandas->ipython-ngql) (2.8.2)\r\n",
      "Requirement already satisfied: tzdata>=2022.1 in /usr/local/lib/python3.11/site-packages (from pandas->ipython-ngql) (2023.3)\r\n",
      "Requirement already satisfied: pyparsing!=3.0.0,!=3.0.1,!=3.0.2,!=3.0.3,<4,>=2.4.2 in /usr/local/lib/python3.11/site-packages (from httplib2>=0.20.0->nebula3-python>=3.4.0->ipython-ngql) (3.1.1)\r\n",
      "Requirement already satisfied: parso<0.9.0,>=0.8.3 in /usr/local/lib/python3.11/site-packages (from jedi>=0.16->ipython>=5.3.0->pyvis) (0.8.3)\r\n",
      "Requirement already satisfied: ptyprocess>=0.5 in /usr/local/lib/python3.11/site-packages (from pexpect>4.3->ipython>=5.3.0->pyvis) (0.7.0)\r\n",
      "Requirement already satisfied: wcwidth in /usr/local/lib/python3.11/site-packages (from prompt-toolkit<3.1.0,>=3.0.30->ipython>=5.3.0->pyvis) (0.2.6)\r\n",
      "Requirement already satisfied: executing>=1.2.0 in /usr/local/lib/python3.11/site-packages (from stack-data->ipython>=5.3.0->pyvis) (1.2.0)\r\n",
      "Requirement already satisfied: asttokens>=2.1.0 in /usr/local/lib/python3.11/site-packages (from stack-data->ipython>=5.3.0->pyvis) (2.4.0)\r\n",
      "Requirement already satisfied: pure-eval in /usr/local/lib/python3.11/site-packages (from stack-data->ipython>=5.3.0->pyvis) (0.2.2)\r\n",
      "Note: you may need to restart the kernel to use updated packages.\n",
      "Connection Pool Created\n",
      "INFO:nebula3.logger:Get connection to ('10.180.146.77', 9669)\n"
     ]
    },
    {
     "data": {
      "text/plain": "         Name\n0  llamaindex\n1    military",
      "text/html": "<div>\n<style scoped>\n    .dataframe tbody tr th:only-of-type {\n        vertical-align: middle;\n    }\n\n    .dataframe tbody tr th {\n        vertical-align: top;\n    }\n\n    .dataframe thead th {\n        text-align: right;\n    }\n</style>\n<table border=\"1\" class=\"dataframe\">\n  <thead>\n    <tr style=\"text-align: right;\">\n      <th></th>\n      <th>Name</th>\n    </tr>\n  </thead>\n  <tbody>\n    <tr>\n      <th>0</th>\n      <td>llamaindex</td>\n    </tr>\n    <tr>\n      <th>1</th>\n      <td>military</td>\n    </tr>\n  </tbody>\n</table>\n</div>"
     },
     "execution_count": 6,
     "metadata": {},
     "output_type": "execute_result"
    }
   ],
   "source": [
    "# install related packages, password is nebula by default\n",
    "%pip install ipython-ngql networkx pyvis\n",
    "%load_ext ngql\n",
    "%ngql --address 10.180.146.77 --port 9669 --user root --password nebula"
   ]
  },
  {
   "cell_type": "code",
   "execution_count": 7,
   "metadata": {
    "ExecuteTime": {
     "end_time": "2023-09-10T02:37:01.322922Z",
     "start_time": "2023-09-10T02:37:01.139201Z"
    }
   },
   "outputs": [
    {
     "name": "stdout",
     "output_type": "stream",
     "text": [
      "INFO:nebula3.logger:Get connection to ('10.180.146.77', 9669)\n",
      "INFO:nebula3.logger:Get connection to ('10.180.146.77', 9669)\n"
     ]
    },
    {
     "data": {
      "text/plain": "                                                    e\n0   (\"J-16\")-[:relationship@-6238500775900394739{r...\n1   (\"J-16\")-[:relationship@-4537671700302613492{r...\n2   (\"J-16\")-[:relationship@-1759740491903092871{r...\n3   (\"J-16\")-[:relationship@-1759740491903092871{r...\n4   (\"J-16\")-[:relationship@-1759740491903092871{r...\n..                                                ...\n95  (\"歼-16D\")-[:relationship@4762462027576683225{r...\n96  (\"歼-16D\")-[:relationship@4762462027576683225{r...\n97  (\"歼-16D\")-[:relationship@4762462027576683225{r...\n98  (\"歼-16D\")-[:relationship@5796647766990977503{r...\n99  (\"歼-16D\")-[:relationship@5796647766990977503{r...\n\n[100 rows x 1 columns]",
      "text/html": "<div>\n<style scoped>\n    .dataframe tbody tr th:only-of-type {\n        vertical-align: middle;\n    }\n\n    .dataframe tbody tr th {\n        vertical-align: top;\n    }\n\n    .dataframe thead th {\n        text-align: right;\n    }\n</style>\n<table border=\"1\" class=\"dataframe\">\n  <thead>\n    <tr style=\"text-align: right;\">\n      <th></th>\n      <th>e</th>\n    </tr>\n  </thead>\n  <tbody>\n    <tr>\n      <th>0</th>\n      <td>(\"J-16\")-[:relationship@-6238500775900394739{r...</td>\n    </tr>\n    <tr>\n      <th>1</th>\n      <td>(\"J-16\")-[:relationship@-4537671700302613492{r...</td>\n    </tr>\n    <tr>\n      <th>2</th>\n      <td>(\"J-16\")-[:relationship@-1759740491903092871{r...</td>\n    </tr>\n    <tr>\n      <th>3</th>\n      <td>(\"J-16\")-[:relationship@-1759740491903092871{r...</td>\n    </tr>\n    <tr>\n      <th>4</th>\n      <td>(\"J-16\")-[:relationship@-1759740491903092871{r...</td>\n    </tr>\n    <tr>\n      <th>...</th>\n      <td>...</td>\n    </tr>\n    <tr>\n      <th>95</th>\n      <td>(\"歼-16D\")-[:relationship@4762462027576683225{r...</td>\n    </tr>\n    <tr>\n      <th>96</th>\n      <td>(\"歼-16D\")-[:relationship@4762462027576683225{r...</td>\n    </tr>\n    <tr>\n      <th>97</th>\n      <td>(\"歼-16D\")-[:relationship@4762462027576683225{r...</td>\n    </tr>\n    <tr>\n      <th>98</th>\n      <td>(\"歼-16D\")-[:relationship@5796647766990977503{r...</td>\n    </tr>\n    <tr>\n      <th>99</th>\n      <td>(\"歼-16D\")-[:relationship@5796647766990977503{r...</td>\n    </tr>\n  </tbody>\n</table>\n<p>100 rows × 1 columns</p>\n</div>"
     },
     "execution_count": 7,
     "metadata": {},
     "output_type": "execute_result"
    }
   ],
   "source": [
    "# Query some random Relationships with Cypher\n",
    "%ngql USE military;\n",
    "%ngql MATCH ()-[e]->() RETURN e LIMIT 100"
   ]
  },
  {
   "cell_type": "code",
   "execution_count": 20,
   "metadata": {
    "ExecuteTime": {
     "end_time": "2023-09-09T14:11:46.976152Z",
     "start_time": "2023-09-09T14:11:46.737927Z"
    }
   },
   "outputs": [
    {
     "data": {
      "text/plain": "<IPython.lib.display.IFrame at 0x11da42d10>",
      "text/html": "\n        <iframe\n            width=\"100%\"\n            height=\"500px\"\n            src=\"nebulagraph.html\"\n            frameborder=\"0\"\n            allowfullscreen\n            \n        ></iframe>\n        "
     },
     "metadata": {},
     "output_type": "display_data"
    },
    {
     "data": {
      "text/plain": "<class 'pyvis.network.Network'> |N|=26 |E|=23"
     },
     "execution_count": 20,
     "metadata": {},
     "output_type": "execute_result"
    }
   ],
   "source": [
    "# draw the result\n",
    "\n",
    "%ng_draw"
   ]
  },
  {
   "attachments": {},
   "cell_type": "markdown",
   "metadata": {},
   "source": [
    "## Asking the Knowledge Graph\n",
    "\n",
    "Finally, let's demo how to Query Knowledge Graph with Natural language!\n",
    "\n",
    "Here, we will leverage the `KnowledgeGraphQueryEngine`, with `NebulaGraphStore` as the `storage_context.graph_store`."
   ]
  },
  {
   "cell_type": "code",
   "execution_count": 8,
   "metadata": {
    "ExecuteTime": {
     "end_time": "2023-09-10T02:37:29.951155Z",
     "start_time": "2023-09-10T02:37:29.839190Z"
    }
   },
   "outputs": [],
   "source": [
    "from llama_index.query_engine import KnowledgeGraphQueryEngine\n",
    "\n",
    "from llama_index.storage.storage_context import StorageContext\n",
    "from llama_index.graph_stores import NebulaGraphStore\n",
    "\n",
    "query_engine = KnowledgeGraphQueryEngine(\n",
    "    storage_context=storage_context,\n",
    "    service_context=service_context,\n",
    "    llm=llm,\n",
    "    verbose=True,\n",
    ")"
   ]
  },
  {
   "cell_type": "code",
   "execution_count": 19,
   "metadata": {
    "ExecuteTime": {
     "end_time": "2023-09-10T02:50:16.112419Z",
     "start_time": "2023-09-10T02:50:13.791914Z"
    }
   },
   "outputs": [
    {
     "name": "stdout",
     "output_type": "stream",
     "text": [
      "\u001B[33;1m\u001B[1;3mGraph Store Query:\n",
      "```\n",
      "MATCH (e:`entity`)-[:relationship]->(j:`entity`) WHERE e.`entity`.`name` == 'J-16'\n",
      "RETURN j.`entity`.`name`;\n",
      "```\n",
      "\u001B[0m\u001B[33;1m\u001B[1;3mGraph Store Response:\n",
      "{'j.entity.name': ['2015', \"Nancy Pelosi's Taiwan visit\", 'Multi Role Fighter Bomber', 'all-weather', 'capable of attacking land and sea targets', 'fighter bomber', 'fighter jet', 'fighter/bomber', 'long-range', 'multirole', 'twin-engine', 'AirForceWorld.com', 'Taiwan Strait', 'China', '2011-2012', '2017']}\n",
      "\u001B[0m\u001B[32;1m\u001B[1;3mFinal Response: \n",
      "The J-16 is a multirole fighter bomber that is all-weather and capable of attacking land and sea targets. It is a twin-engine fighter jet that is long-range and fighter/bomber. It was first seen in 2011-2012 and has been involved in various events such as Nancy Pelosi's Taiwan visit in 2015 and the AirForceWorld.com in 2017.\n",
      "\u001B[0m"
     ]
    },
    {
     "data": {
      "text/plain": "<IPython.core.display.Markdown object>",
      "text/markdown": "<b>\nThe J-16 is a multirole fighter bomber that is all-weather and capable of attacking land and sea targets. It is a twin-engine fighter jet that is long-range and fighter/bomber. It was first seen in 2011-2012 and has been involved in various events such as Nancy Pelosi's Taiwan visit in 2015 and the AirForceWorld.com in 2017.</b>"
     },
     "metadata": {},
     "output_type": "display_data"
    }
   ],
   "source": [
    "response = query_engine.query(\n",
    "    \"Tell me about J-16?\",\n",
    ")\n",
    "display(Markdown(f\"<b>{response}</b>\"))"
   ]
  },
  {
   "cell_type": "code",
   "execution_count": 15,
   "metadata": {
    "ExecuteTime": {
     "end_time": "2023-09-09T14:10:54.526312Z",
     "start_time": "2023-09-09T14:10:53.383842Z"
    }
   },
   "outputs": [
    {
     "data": {
      "text/plain": "<IPython.core.display.Markdown object>",
      "text/markdown": "\n```cypher\n```\nMATCH (e:`entity`)-[:relationship]->(j:`entity`) \n  WHERE e.`entity`.`name` == 'J-16'\n\nRETURN j.`entity`.`name`;\n```\n```\n"
     },
     "metadata": {},
     "output_type": "display_data"
    }
   ],
   "source": [
    "graph_query = query_engine.generate_query(\n",
    "    \"Tell me about J-16?\",\n",
    ")\n",
    "\n",
    "graph_query = graph_query.replace(\"WHERE\", \"\\n  WHERE\").replace(\"RETURN\", \"\\nRETURN\")\n",
    "\n",
    "display(\n",
    "    Markdown(\n",
    "        f\"\"\"\n",
    "```cypher\n",
    "{graph_query}\n",
    "```\n",
    "\"\"\"\n",
    "    )\n",
    ")"
   ]
  },
  {
   "attachments": {},
   "cell_type": "markdown",
   "metadata": {},
   "source": [
    "We could see it helps generate the Graph query:\n",
    "\n",
    "```cypher\n",
    "MATCH (p:`entity`)-[:relationship]->(e:`entity`) \n",
    "  WHERE p.`entity`.`name` == 'Peter Quill' \n",
    "RETURN e.`entity`.`name`;\n",
    "```\n",
    "And synthese the question based on its result:\n",
    "\n",
    "```json\n",
    "{'e2.entity.name': ['grandfather', 'alternate version of Gamora', 'Guardians of the Galaxy']}\n",
    "```"
   ]
  },
  {
   "attachments": {},
   "cell_type": "markdown",
   "metadata": {},
   "source": [
    "Of course we still could query it, too! And this query engine could be our best Graph Query Language learning bot, then :)."
   ]
  },
  {
   "cell_type": "code",
   "execution_count": 16,
   "metadata": {
    "ExecuteTime": {
     "end_time": "2023-09-09T14:11:06.536606Z",
     "start_time": "2023-09-09T14:11:06.451520Z"
    }
   },
   "outputs": [
    {
     "name": "stdout",
     "output_type": "stream",
     "text": [
      "INFO:nebula3.logger:Get connection to ('10.180.146.77', 9669)\n"
     ]
    },
    {
     "data": {
      "text/plain": "  p.entity.name             e.relationship                m.entity.name\n0          J-16         entered service in                         2015\n1          J-16  dispatched in response to  Nancy Pelosi's Taiwan visit\n2          J-16    most frequently used in                Taiwan Strait\n3          J-16              first flew in                    2011-2012\n4          J-16     officially revealed in                         2017",
      "text/html": "<div>\n<style scoped>\n    .dataframe tbody tr th:only-of-type {\n        vertical-align: middle;\n    }\n\n    .dataframe tbody tr th {\n        vertical-align: top;\n    }\n\n    .dataframe thead th {\n        text-align: right;\n    }\n</style>\n<table border=\"1\" class=\"dataframe\">\n  <thead>\n    <tr style=\"text-align: right;\">\n      <th></th>\n      <th>p.entity.name</th>\n      <th>e.relationship</th>\n      <th>m.entity.name</th>\n    </tr>\n  </thead>\n  <tbody>\n    <tr>\n      <th>0</th>\n      <td>J-16</td>\n      <td>entered service in</td>\n      <td>2015</td>\n    </tr>\n    <tr>\n      <th>1</th>\n      <td>J-16</td>\n      <td>dispatched in response to</td>\n      <td>Nancy Pelosi's Taiwan visit</td>\n    </tr>\n    <tr>\n      <th>2</th>\n      <td>J-16</td>\n      <td>most frequently used in</td>\n      <td>Taiwan Strait</td>\n    </tr>\n    <tr>\n      <th>3</th>\n      <td>J-16</td>\n      <td>first flew in</td>\n      <td>2011-2012</td>\n    </tr>\n    <tr>\n      <th>4</th>\n      <td>J-16</td>\n      <td>officially revealed in</td>\n      <td>2017</td>\n    </tr>\n  </tbody>\n</table>\n</div>"
     },
     "execution_count": 16,
     "metadata": {},
     "output_type": "execute_result"
    }
   ],
   "source": [
    "%%ngql \n",
    "MATCH (p:`entity`)-[e:relationship]->(m:`entity`)\n",
    "  WHERE p.`entity`.`name` == 'J-16'\n",
    "RETURN p.`entity`.`name`, e.relationship, m.`entity`.`name`;"
   ]
  },
  {
   "attachments": {},
   "cell_type": "markdown",
   "metadata": {},
   "source": [
    "And change the query to be rendered"
   ]
  },
  {
   "cell_type": "code",
   "execution_count": 17,
   "metadata": {
    "ExecuteTime": {
     "end_time": "2023-09-09T14:11:16.424109Z",
     "start_time": "2023-09-09T14:11:16.329556Z"
    }
   },
   "outputs": [
    {
     "name": "stdout",
     "output_type": "stream",
     "text": [
      "INFO:nebula3.logger:Get connection to ('10.180.146.77', 9669)\n"
     ]
    },
    {
     "data": {
      "text/plain": "                                p  \\\n0  (\"J-16\" :entity{name: \"J-16\"})   \n1  (\"J-16\" :entity{name: \"J-16\"})   \n2  (\"J-16\" :entity{name: \"J-16\"})   \n3  (\"J-16\" :entity{name: \"J-16\"})   \n4  (\"J-16\" :entity{name: \"J-16\"})   \n\n                                                   e  \\\n0  (\"J-16\")-[:relationship@-6238500775900394739{r...   \n1  (\"J-16\")-[:relationship@-4537671700302613492{r...   \n2  (\"J-16\")-[:relationship@3160896241778998042{re...   \n3  (\"J-16\")-[:relationship@5218579307241849186{re...   \n4  (\"J-16\")-[:relationship@7242383210706219038{re...   \n\n                                                   m  \n0                     (\"2015\" :entity{name: \"2015\"})  \n1  (\"Nancy Pelosi's Taiwan visit\" :entity{name: \"...  \n2   (\"Taiwan Strait\" :entity{name: \"Taiwan Strait\"})  \n3           (\"2011-2012\" :entity{name: \"2011-2012\"})  \n4                     (\"2017\" :entity{name: \"2017\"})  ",
      "text/html": "<div>\n<style scoped>\n    .dataframe tbody tr th:only-of-type {\n        vertical-align: middle;\n    }\n\n    .dataframe tbody tr th {\n        vertical-align: top;\n    }\n\n    .dataframe thead th {\n        text-align: right;\n    }\n</style>\n<table border=\"1\" class=\"dataframe\">\n  <thead>\n    <tr style=\"text-align: right;\">\n      <th></th>\n      <th>p</th>\n      <th>e</th>\n      <th>m</th>\n    </tr>\n  </thead>\n  <tbody>\n    <tr>\n      <th>0</th>\n      <td>(\"J-16\" :entity{name: \"J-16\"})</td>\n      <td>(\"J-16\")-[:relationship@-6238500775900394739{r...</td>\n      <td>(\"2015\" :entity{name: \"2015\"})</td>\n    </tr>\n    <tr>\n      <th>1</th>\n      <td>(\"J-16\" :entity{name: \"J-16\"})</td>\n      <td>(\"J-16\")-[:relationship@-4537671700302613492{r...</td>\n      <td>(\"Nancy Pelosi's Taiwan visit\" :entity{name: \"...</td>\n    </tr>\n    <tr>\n      <th>2</th>\n      <td>(\"J-16\" :entity{name: \"J-16\"})</td>\n      <td>(\"J-16\")-[:relationship@3160896241778998042{re...</td>\n      <td>(\"Taiwan Strait\" :entity{name: \"Taiwan Strait\"})</td>\n    </tr>\n    <tr>\n      <th>3</th>\n      <td>(\"J-16\" :entity{name: \"J-16\"})</td>\n      <td>(\"J-16\")-[:relationship@5218579307241849186{re...</td>\n      <td>(\"2011-2012\" :entity{name: \"2011-2012\"})</td>\n    </tr>\n    <tr>\n      <th>4</th>\n      <td>(\"J-16\" :entity{name: \"J-16\"})</td>\n      <td>(\"J-16\")-[:relationship@7242383210706219038{re...</td>\n      <td>(\"2017\" :entity{name: \"2017\"})</td>\n    </tr>\n  </tbody>\n</table>\n</div>"
     },
     "execution_count": 17,
     "metadata": {},
     "output_type": "execute_result"
    }
   ],
   "source": [
    "%%ngql\n",
    "MATCH (p:`entity`)-[e:relationship]->(m:`entity`)\n",
    "  WHERE p.`entity`.`name` == 'J-16'\n",
    "RETURN p, e, m;"
   ]
  },
  {
   "cell_type": "code",
   "execution_count": 18,
   "metadata": {
    "ExecuteTime": {
     "end_time": "2023-09-09T14:11:19.875876Z",
     "start_time": "2023-09-09T14:11:19.652008Z"
    }
   },
   "outputs": [
    {
     "data": {
      "text/plain": "<IPython.lib.display.IFrame at 0x11da42d10>",
      "text/html": "\n        <iframe\n            width=\"100%\"\n            height=\"500px\"\n            src=\"nebulagraph.html\"\n            frameborder=\"0\"\n            allowfullscreen\n            \n        ></iframe>\n        "
     },
     "metadata": {},
     "output_type": "display_data"
    },
    {
     "data": {
      "text/plain": "<class 'pyvis.network.Network'> |N|=6 |E|=5"
     },
     "execution_count": 18,
     "metadata": {},
     "output_type": "execute_result"
    }
   ],
   "source": [
    "%ng_draw"
   ]
  },
  {
   "attachments": {},
   "cell_type": "markdown",
   "metadata": {},
   "source": [
    "The results of this knowledge-fetching query could not be more clear from the renderred graph then."
   ]
  }
 ],
 "metadata": {
  "kernelspec": {
   "display_name": "Python 3 (ipykernel)",
   "language": "python",
   "name": "python3"
  },
  "language_info": {
   "codemirror_mode": {
    "name": "ipython",
    "version": 3
   },
   "file_extension": ".py",
   "mimetype": "text/x-python",
   "name": "python",
   "nbconvert_exporter": "python",
   "pygments_lexer": "ipython3",
   "version": "3.9.6"
  }
 },
 "nbformat": 4,
 "nbformat_minor": 4
}
